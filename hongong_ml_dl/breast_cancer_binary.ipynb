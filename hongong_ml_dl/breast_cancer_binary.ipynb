{
 "cells": [
  {
   "cell_type": "markdown",
   "metadata": {},
   "source": [
    "# Breast Cancer Dataset\n",
    "\n",
    "Binary Classification Prediction for type of Breast Cancer\n",
    "\n",
    "https://www.kaggle.com/datasets/yasserh/breast-cancer-dataset?resource=download"
   ]
  },
  {
   "cell_type": "code",
   "execution_count": 1,
   "metadata": {},
   "outputs": [],
   "source": [
    "!pip install scikit-learn\n",
    "!pip install pandas"
   ]
  },
  {
   "cell_type": "code",
   "execution_count": null,
   "metadata": {},
   "outputs": [],
   "source": [
    "import pandas as pd\n",
    "from glob import glob\n",
    "\n",
    "for g in glob('./*'):\n",
    "    print(g)\n",
    "\n",
    "df = pd.read_csv('./chap01/data/breast-cancer.csv')\n",
    "print(df.shape)\n",
    "df.head()"
   ]
  },
  {
   "cell_type": "markdown",
   "metadata": {},
   "source": [
    "## 데이터 전처리"
   ]
  },
  {
   "cell_type": "code",
   "execution_count": null,
   "metadata": {},
   "outputs": [],
   "source": [
    "# 비어있는게 있나 \n",
    "print(df.isnull().sum())\n"
   ]
  },
  {
   "cell_type": "code",
   "execution_count": null,
   "metadata": {},
   "outputs": [],
   "source": [
    "# 이상치 있는지 확인\n",
    "df.describe()"
   ]
  },
  {
   "cell_type": "code",
   "execution_count": null,
   "metadata": {},
   "outputs": [],
   "source": [
    "!pip install matplotlib"
   ]
  },
  {
   "cell_type": "code",
   "execution_count": null,
   "metadata": {},
   "outputs": [],
   "source": [
    "# 전체 데이터 분포 그래프로 확인\n",
    "import matplotlib.pyplot as plt\n",
    "\n",
    "df.hist(bins=20, figsize=(20, 15))\n",
    "plt.show()\n",
    "\n",
    "# 이상치는 없는 것 같다. "
   ]
  },
  {
   "cell_type": "code",
   "execution_count": null,
   "metadata": {},
   "outputs": [],
   "source": [
    "# 양성, 음성으로 나눠 데이터 분포 확인\n",
    "\n",
    "df_m = df[df['diagnosis'] == 'M']\n",
    "df_b = df[df['diagnosis'] == 'B']\n",
    "\n",
    "plt.figure(figsize=(20, 25))\n",
    "for i, feature in enumerate(df.columns[2:32]):\n",
    "    plt.subplot(6, 5, i+1)\n",
    "    plt.hist(df_m[feature], bins=20, color='r', alpha=0.5, label='M')\n",
    "    plt.hist(df_b[feature], bins=20, color='b', alpha=0.5, label='B')\n",
    "    plt.legend()\n",
    "    plt.title(feature)\n"
   ]
  },
  {
   "cell_type": "code",
   "execution_count": null,
   "metadata": {},
   "outputs": [],
   "source": [
    "# M과 B의 숫자 확인\n",
    "\n",
    "print(df['diagnosis'].value_counts())\n",
    "\n",
    "plt.figure(figsize=(10, 5))\n",
    "plt.bar(df['diagnosis'].value_counts().index, df['diagnosis'].value_counts().values)"
   ]
  },
  {
   "cell_type": "code",
   "execution_count": null,
   "metadata": {},
   "outputs": [],
   "source": [
    "!pip install seaborn"
   ]
  },
  {
   "cell_type": "code",
   "execution_count": null,
   "metadata": {},
   "outputs": [],
   "source": [
    "import seaborn as sns\n",
    "\n",
    "plt.figure(figsize=(20, 20))\n",
    "\n",
    "sns.heatmap(df.drop(columns=['id', 'diagnosis']).corr(), annot=True, fmt='.2f', square=True, cmap='coolwarm')\n",
    "plt.show()\n",
    "\n",
    "\n",
    "\n"
   ]
  },
  {
   "cell_type": "markdown",
   "metadata": {},
   "source": [
    "다중 공선성을 처리해야 하는 변수들이 좀 보인다. \n",
    "\n",
    "일단은 무시하고 가보자. "
   ]
  },
  {
   "cell_type": "code",
   "execution_count": null,
   "metadata": {},
   "outputs": [],
   "source": [
    "df['diagnosis_bin'] = df['diagnosis'].map({'M': 1, 'B': 0})\n",
    "\n",
    "df.drop(columns=['id', 'diagnosis'], inplace=True)"
   ]
  },
  {
   "cell_type": "code",
   "execution_count": null,
   "metadata": {},
   "outputs": [],
   "source": [
    "df_origin = df.copy()\n",
    "\n",
    "\n",
    "\n",
    "df_features = df.drop(columns=['diagnosis_bin'])\n",
    "df_target = df['diagnosis_bin']\n",
    "\n",
    "\n",
    "display(df_features.head())"
   ]
  },
  {
   "cell_type": "code",
   "execution_count": null,
   "metadata": {},
   "outputs": [],
   "source": [
    "from sklearn.neighbors import KNeighborsClassifier\n",
    "\n",
    "kn = KNeighborsClassifier(n_neighbors=5)\n",
    "\n",
    "kn.fit(df_features, df_target)"
   ]
  },
  {
   "cell_type": "code",
   "execution_count": null,
   "metadata": {},
   "outputs": [],
   "source": [
    "kn.score(df_features, df_target)"
   ]
  },
  {
   "cell_type": "code",
   "execution_count": null,
   "metadata": {},
   "outputs": [],
   "source": [
    "df['predicted_with_all_features'] = kn.predict(df_features)\n",
    "df.head()"
   ]
  },
  {
   "cell_type": "code",
   "execution_count": null,
   "metadata": {},
   "outputs": [],
   "source": [
    "# 상관관계가 제일 높은 feature 2개는 뭐였을까? \n",
    "df.corr()['diagnosis_bin'].sort_values(ascending=False)"
   ]
  },
  {
   "cell_type": "code",
   "execution_count": null,
   "metadata": {},
   "outputs": [],
   "source": [
    "# concave points_worst와 perimeter_worst을 x, y로 scatter plot 그리자. \n",
    "# 색상은 diagnosis_bin으로 구분\n",
    "# predicted_with_all_features와 diagnosis_bin의 값이 다른 곳은 표시를 하자.\n",
    "\n",
    "plt.scatter(df['concave points_worst'], df['perimeter_worst'], c=df['diagnosis_bin'])\n",
    "plt.scatter(\n",
    "    df[df['diagnosis_bin'] != df['predicted_with_all_features']]['concave points_worst'],\n",
    "    df[df['diagnosis_bin'] != df['predicted_with_all_features']]['perimeter_worst'],\n",
    "    marker='x',\n",
    ")\n",
    "plt.xlabel('predicted_with_all_features')\n",
    "plt.ylabel('concave points_worst')\n",
    "plt.show()"
   ]
  },
  {
   "cell_type": "markdown",
   "metadata": {},
   "source": [
    "## train, test set을 나눠야 한다. "
   ]
  },
  {
   "cell_type": "code",
   "execution_count": null,
   "metadata": {},
   "outputs": [],
   "source": [
    "from sklearn.model_selection import train_test_split\n",
    "\n",
    "df_features = df.drop(columns=['diagnosis_bin', 'predicted_with_all_features'])\n",
    "\n",
    "X_train, X_test, y_train, y_test = train_test_split(df_features, df_target, test_size=0.2, random_state=42, stratify=df_target)\n",
    "print(X_train.shape, X_test.shape, y_train.shape, y_test.shape)\n",
    "\n",
    "print(y_train.value_counts(), y_train.value_counts() / y_train.shape[0] * 100)\n",
    "print(y_test.value_counts(), y_test.value_counts() / y_test.shape[0] * 100)"
   ]
  },
  {
   "cell_type": "code",
   "execution_count": null,
   "metadata": {},
   "outputs": [],
   "source": [
    "# normalize\n",
    "from sklearn.preprocessing import StandardScaler\n",
    "\n",
    "scaler = StandardScaler()\n",
    "X_train_scaled = scaler.fit_transform(X_train)\n",
    "X_test_scaled = scaler.transform(X_test)"
   ]
  },
  {
   "cell_type": "code",
   "execution_count": null,
   "metadata": {},
   "outputs": [],
   "source": [
    "# X_train_scaled 에 컬럼명 부여하기\n",
    "df_X_train_scaled = pd.DataFrame(X_train_scaled, columns=X_train.columns)\n",
    "df_X_test_scaled = pd.DataFrame(X_test_scaled, columns=X_test.columns)"
   ]
  },
  {
   "cell_type": "code",
   "execution_count": null,
   "metadata": {},
   "outputs": [],
   "source": [
    "# pairplot 해보자. \n",
    "df_train = pd.DataFrame(X_train_scaled, columns=df_features.columns)\n",
    "df_train['diagnosis_bin'] = y_train\n",
    "\n",
    "sns.pairplot(df_train, hue='diagnosis_bin')\n",
    "plt.show()"
   ]
  },
  {
   "cell_type": "code",
   "execution_count": null,
   "metadata": {},
   "outputs": [],
   "source": [
    "!pip install statsmodels"
   ]
  },
  {
   "cell_type": "code",
   "execution_count": null,
   "metadata": {},
   "outputs": [],
   "source": [
    "# correlation heatmap \n",
    "\n",
    "plt.figure(figsize=(20, 20))\n",
    "sns.heatmap(\n",
    "    pd.DataFrame(X_train_scaled, columns=df_features.columns).corr(), annot=True, fmt='.2f', square=True, cmap='coolwarm'\n",
    ")\n",
    "# sns.heatmap(X_train_scaled.corr, annot=True, fmt='.2f', square=True, cmap='coolwarm')\n",
    "plt.show()"
   ]
  },
  {
   "cell_type": "code",
   "execution_count": null,
   "metadata": {},
   "outputs": [],
   "source": [
    "# 다중공선성 처리\n",
    "from statsmodels.stats.outliers_influence import variance_inflation_factor\n",
    "\n",
    "vif = pd.DataFrame()\n",
    "vif['VIF Factor'] = [variance_inflation_factor(X_train_scaled, i) for i in range(X_train_scaled.shape[1])]\n",
    "vif['features'] = df_X_train_scaled.columns\n",
    "vif.sort_values('VIF Factor', ascending=False, inplace=True)\n",
    "vif\n"
   ]
  },
  {
   "cell_type": "markdown",
   "metadata": {},
   "source": [
    "VIF(Variance Inflation Factor)는 다중공선성을 평가하기 위한 통계적 지표입니다. 다중공선성은 독립 변수들 간에 강한 선형 관계가 있는 경우 발생하며, 이는 회귀 분석 결과의 신뢰성을 저하시킬 수 있습니다. VIF는 각 독립 변수의 설명력과 다른 독립 변수들과의 상관 관계를 측정하여 다중공선성을 평가합니다.\n",
    "\n",
    "VIF 값은 1보다 크거나 같은 양수입니다. 일반적으로 VIF 값이 1보다 작으면 다중공선성이 거의 없다고 판단하고, 1보다 큰 값은 다중공선성이 존재한다고 판단합니다. 일반적으로 VIF 값이 5를 넘어가면 다중공선성이 심각하다고 판단합니다.\n",
    "\n",
    "VIF를 활용하여 다중공선성을 제거하기 위한 방법은 다음과 같습니다:\n",
    "\n",
    "1. 다중공선성이 의심되는 독립 변수들을 선택합니다.\n",
    "2. 선택한 독립 변수들을 이용하여 다중회귀 분석을 수행합니다.\n",
    "3. 각 독립 변수의 VIF 값을 계산합니다.\n",
    "4. VIF 값이 일정 기준(예: 5)을 넘는 독립 변수를 제거합니다.\n",
    "5. 제거한 독립 변수를 제외한 나머지 독립 변수들을 이용하여 다시 다중회귀 분석을 수행합니다.\n",
    "6. 위 과정을 반복하여 VIF 값이 기준을 넘지 않는 최종 독립 변수들을 선택합니다.\n",
    "\n",
    "이 방법을 통해 다중공선성이 있는 독립 변수들을 제거하고, 모델의 신뢰성을 향상시킬 수 있습니다."
   ]
  },
  {
   "cell_type": "code",
   "execution_count": null,
   "metadata": {},
   "outputs": [],
   "source": [
    "df_X_train_scaled.drop(columns=['perimeter_mean'], inplace=True)\n",
    "\n",
    "vif = pd.DataFrame()\n",
    "vif['VIF Factor'] = [variance_inflation_factor(df_X_train_scaled.to_numpy(), i) for i in range(df_X_train_scaled.shape[1])]\n",
    "vif['features'] = df_X_train_scaled.columns\n",
    "vif.sort_values('VIF Factor', ascending=False, inplace=True)\n",
    "display(vif)"
   ]
  },
  {
   "cell_type": "code",
   "execution_count": null,
   "metadata": {},
   "outputs": [],
   "source": []
  }
 ],
 "metadata": {
  "kernelspec": {
   "display_name": "venv",
   "language": "python",
   "name": "python3"
  },
  "language_info": {
   "codemirror_mode": {
    "name": "ipython",
    "version": 3
   },
   "file_extension": ".py",
   "mimetype": "text/x-python",
   "name": "python",
   "nbconvert_exporter": "python",
   "pygments_lexer": "ipython3",
   "version": "3.9.7"
  }
 },
 "nbformat": 4,
 "nbformat_minor": 2
}
