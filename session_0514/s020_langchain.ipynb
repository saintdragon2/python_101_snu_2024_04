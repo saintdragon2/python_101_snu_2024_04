{
 "cells": [
  {
   "cell_type": "markdown",
   "metadata": {},
   "source": [
    "# Langchain\n",
    "\n",
    "- [랭체인](https://www.langchain.com/)을 사용하는 이유\n",
    "  - 단순 언어 모델인 GPT의 기능을 확장해서 쓸 수 있음\n",
    "    - 요약, RAG 등\n",
    "  - 이미 프로그램을 개발해놓은 뒤에도, 여러 LLM 중 OpenAI의 GPT를 쓰다가 ollama 혹은 다른 언어 모델로 바꿔야 할 때, 쉽게 수정 가능\n",
    "  - LLM이 출력하는 방식을 통제할 수 있음\n",
    "    - 특정 형식으로 답변하게 하거나, \n",
    "    - 답변이 옳게 되었는지 확인을 하거나, \n",
    "    - 여러번 LLM이 판단을 하고 다시 스스로 질문을 하는 등의 작업이 필요할 때 개발이 편리함"
   ]
  },
  {
   "cell_type": "code",
   "execution_count": 1,
   "metadata": {},
   "outputs": [],
   "source": [
    "!pip install --upgrade --quiet langchain langchain-openai langchain-chroma"
   ]
  },
  {
   "cell_type": "code",
   "execution_count": 2,
   "metadata": {},
   "outputs": [],
   "source": [
    "from langchain_openai import ChatOpenAI\n",
    "\n",
    "from env import OPENAI_API_KEY\n",
    "\n",
    "chat = ChatOpenAI(model=\"gpt-4\", temperature=0.2, api_key=OPENAI_API_KEY)"
   ]
  },
  {
   "cell_type": "code",
   "execution_count": 3,
   "metadata": {},
   "outputs": [
    {
     "data": {
      "text/plain": [
       "AIMessage(content='나는 프로그래밍을 사랑한다.', response_metadata={'token_usage': {'completion_tokens': 13, 'prompt_tokens': 19, 'total_tokens': 32}, 'model_name': 'gpt-4', 'system_fingerprint': None, 'finish_reason': 'stop', 'logprobs': None}, id='run-ffe9d324-6242-46dc-b4da-499b402fb53b-0')"
      ]
     },
     "execution_count": 3,
     "metadata": {},
     "output_type": "execute_result"
    }
   ],
   "source": [
    "from langchain_core.messages import HumanMessage\n",
    "\n",
    "# openAI API 사용법에서 \"role\": \"user\"로 하던 방식을 사용하지 않고, \n",
    "# langchain_core.messages.HumanMessage를 사용한다.\n",
    "chat.invoke(\n",
    "    [\n",
    "        HumanMessage(\n",
    "            content=\"Translate this sentence from English to Korean: I love programming.\"\n",
    "        )\n",
    "    ]\n",
    ")"
   ]
  },
  {
   "cell_type": "code",
   "execution_count": 5,
   "metadata": {},
   "outputs": [
    {
     "data": {
      "text/plain": [
       "AIMessage(content=\"As an AI, I don't speak unless interacted with. My previous response would depend on the last question or command you gave me.\", response_metadata={'token_usage': {'completion_tokens': 28, 'prompt_tokens': 13, 'total_tokens': 41}, 'model_name': 'gpt-4', 'system_fingerprint': None, 'finish_reason': 'stop', 'logprobs': None}, id='run-f1fba5f7-1970-49ee-bf96-268d1ecfee52-0')"
      ]
     },
     "execution_count": 5,
     "metadata": {},
     "output_type": "execute_result"
    }
   ],
   "source": [
    "# openAI API 때와 마찬가지로 대화 내용을 기억해주지 않기 떄문에,\n",
    "chat.invoke([HumanMessage(content=\"What did you just say?\")])"
   ]
  },
  {
   "cell_type": "code",
   "execution_count": 6,
   "metadata": {},
   "outputs": [
    {
     "data": {
      "text/plain": [
       "AIMessage(content='I said \"I love programming\" in Korean.', response_metadata={'token_usage': {'completion_tokens': 10, 'prompt_tokens': 46, 'total_tokens': 56}, 'model_name': 'gpt-4', 'system_fingerprint': None, 'finish_reason': 'stop', 'logprobs': None}, id='run-899f8d66-d060-438f-b089-e8d50202a758-0')"
      ]
     },
     "execution_count": 6,
     "metadata": {},
     "output_type": "execute_result"
    }
   ],
   "source": [
    "# 이전 대화 내용을 리스트에 담아서 invoke()에 넣어주면, 이전 대화 내용을 기억하면서 대화를 이어나갈 수 있다.\n",
    "from langchain_core.messages import AIMessage\n",
    "\n",
    "chat.invoke(\n",
    "    [\n",
    "        HumanMessage(\n",
    "            content=\"Translate this sentence from English to Korean: I love programming.\"\n",
    "        ),\n",
    "        AIMessage(content=\"나는 프로그래밍을 사랑한다.\"),\n",
    "        HumanMessage(content=\"What did you just say?\"),\n",
    "    ]\n",
    ")"
   ]
  },
  {
   "cell_type": "code",
   "execution_count": null,
   "metadata": {},
   "outputs": [],
   "source": []
  }
 ],
 "metadata": {
  "kernelspec": {
   "display_name": "venv",
   "language": "python",
   "name": "python3"
  },
  "language_info": {
   "codemirror_mode": {
    "name": "ipython",
    "version": 3
   },
   "file_extension": ".py",
   "mimetype": "text/x-python",
   "name": "python",
   "nbconvert_exporter": "python",
   "pygments_lexer": "ipython3",
   "version": "3.12.3"
  }
 },
 "nbformat": 4,
 "nbformat_minor": 2
}
