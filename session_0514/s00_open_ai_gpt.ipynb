{
 "cells": [
  {
   "cell_type": "markdown",
   "metadata": {},
   "source": [
    "# OpenAI API 사용하기\n",
    "## ChatGPT가 아니라 openAI API를 쓰는 이유\n",
    "- 내가 만드는 프로그램에 GPT의 능력을 넣을 수 있다. \n",
    "\n",
    "## API?\n",
    "- Application Programming Interface\n",
    "- 서로 다른 시스템 간의 통신을 하는 기술\n",
    "\n",
    "![api](imgs/api.png)\n",
    "\n",
    "\n",
    "## OpenAI API로 할 수 있는 일\n",
    "- Text Generation\n",
    "- Assistats (Beta)\n",
    "- Embeddings\n",
    "- Speech to text\n",
    "- Image Generation\n",
    "- Vision\n",
    "\n",
    "## openAI API 배우기\n",
    "- https://platform.openai.com/docs/introduction\n"
   ]
  },
  {
   "cell_type": "code",
   "execution_count": 1,
   "metadata": {},
   "outputs": [
    {
     "ename": "ModuleNotFoundError",
     "evalue": "No module named 'openai'",
     "output_type": "error",
     "traceback": [
      "\u001b[0;31m---------------------------------------------------------------------------\u001b[0m",
      "\u001b[0;31mModuleNotFoundError\u001b[0m                       Traceback (most recent call last)",
      "Cell \u001b[0;32mIn[1], line 1\u001b[0m\n\u001b[0;32m----> 1\u001b[0m \u001b[38;5;28;01mfrom\u001b[39;00m \u001b[38;5;21;01mopenai\u001b[39;00m \u001b[38;5;28;01mimport\u001b[39;00m OpenAI\n\u001b[1;32m      2\u001b[0m \u001b[38;5;28;01mfrom\u001b[39;00m \u001b[38;5;21;01menv\u001b[39;00m \u001b[38;5;28;01mimport\u001b[39;00m OPENAI_API_KEY\n\u001b[1;32m      4\u001b[0m client \u001b[38;5;241m=\u001b[39m OpenAI(openai_api_key\u001b[38;5;241m=\u001b[39mOPENAI_API_KEY)\n",
      "\u001b[0;31mModuleNotFoundError\u001b[0m: No module named 'openai'"
     ]
    }
   ],
   "source": [
    "from openai import OpenAI\n",
    "from session_0514.env import OPENAI_API_KEY\n",
    "\n",
    "client = OpenAI(api_key=OPENAI_API_KEY)\n"
   ]
  },
  {
   "cell_type": "code",
   "execution_count": 2,
   "metadata": {},
   "outputs": [
    {
     "name": "stdout",
     "output_type": "stream",
     "text": [
      "Collecting openai\n",
      "  Downloading openai-1.28.1-py3-none-any.whl.metadata (21 kB)\n",
      "Collecting anyio<5,>=3.5.0 (from openai)\n",
      "  Downloading anyio-4.3.0-py3-none-any.whl.metadata (4.6 kB)\n",
      "Collecting distro<2,>=1.7.0 (from openai)\n",
      "  Using cached distro-1.9.0-py3-none-any.whl.metadata (6.8 kB)\n",
      "Collecting httpx<1,>=0.23.0 (from openai)\n",
      "  Downloading httpx-0.27.0-py3-none-any.whl.metadata (7.2 kB)\n",
      "Collecting pydantic<3,>=1.9.0 (from openai)\n",
      "  Downloading pydantic-2.7.1-py3-none-any.whl.metadata (107 kB)\n",
      "\u001b[2K     \u001b[90m━━━━━━━━━━━━━━━━━━━━━━━━━━━━━━━━━━━━━━━\u001b[0m \u001b[32m107.3/107.3 kB\u001b[0m \u001b[31m4.0 MB/s\u001b[0m eta \u001b[36m0:00:00\u001b[0m\n",
      "\u001b[?25hCollecting sniffio (from openai)\n",
      "  Downloading sniffio-1.3.1-py3-none-any.whl.metadata (3.9 kB)\n",
      "Collecting tqdm>4 (from openai)\n",
      "  Downloading tqdm-4.66.4-py3-none-any.whl.metadata (57 kB)\n",
      "\u001b[2K     \u001b[90m━━━━━━━━━━━━━━━━━━━━━━━━━━━━━━━━━━━━━━━━\u001b[0m \u001b[32m57.6/57.6 kB\u001b[0m \u001b[31m3.0 MB/s\u001b[0m eta \u001b[36m0:00:00\u001b[0m\n",
      "\u001b[?25hCollecting typing-extensions<5,>=4.7 (from openai)\n",
      "  Downloading typing_extensions-4.11.0-py3-none-any.whl.metadata (3.0 kB)\n",
      "Collecting idna>=2.8 (from anyio<5,>=3.5.0->openai)\n",
      "  Using cached idna-3.7-py3-none-any.whl.metadata (9.9 kB)\n",
      "Collecting certifi (from httpx<1,>=0.23.0->openai)\n",
      "  Using cached certifi-2024.2.2-py3-none-any.whl.metadata (2.2 kB)\n",
      "Collecting httpcore==1.* (from httpx<1,>=0.23.0->openai)\n",
      "  Downloading httpcore-1.0.5-py3-none-any.whl.metadata (20 kB)\n",
      "Collecting h11<0.15,>=0.13 (from httpcore==1.*->httpx<1,>=0.23.0->openai)\n",
      "  Downloading h11-0.14.0-py3-none-any.whl.metadata (8.2 kB)\n",
      "Collecting annotated-types>=0.4.0 (from pydantic<3,>=1.9.0->openai)\n",
      "  Using cached annotated_types-0.6.0-py3-none-any.whl.metadata (12 kB)\n",
      "Collecting pydantic-core==2.18.2 (from pydantic<3,>=1.9.0->openai)\n",
      "  Downloading pydantic_core-2.18.2-cp312-cp312-macosx_11_0_arm64.whl.metadata (6.5 kB)\n",
      "Downloading openai-1.28.1-py3-none-any.whl (320 kB)\n",
      "\u001b[2K   \u001b[90m━━━━━━━━━━━━━━━━━━━━━━━━━━━━━━━━━━━━━━━━\u001b[0m \u001b[32m320.1/320.1 kB\u001b[0m \u001b[31m5.3 MB/s\u001b[0m eta \u001b[36m0:00:00\u001b[0ma \u001b[36m0:00:01\u001b[0m\n",
      "\u001b[?25hDownloading anyio-4.3.0-py3-none-any.whl (85 kB)\n",
      "\u001b[2K   \u001b[90m━━━━━━━━━━━━━━━━━━━━━━━━━━━━━━━━━━━━━━━━\u001b[0m \u001b[32m85.6/85.6 kB\u001b[0m \u001b[31m3.2 MB/s\u001b[0m eta \u001b[36m0:00:00\u001b[0m\n",
      "\u001b[?25hUsing cached distro-1.9.0-py3-none-any.whl (20 kB)\n",
      "Downloading httpx-0.27.0-py3-none-any.whl (75 kB)\n",
      "\u001b[2K   \u001b[90m━━━━━━━━━━━━━━━━━━━━━━━━━━━━━━━━━━━━━━━━\u001b[0m \u001b[32m75.6/75.6 kB\u001b[0m \u001b[31m6.1 MB/s\u001b[0m eta \u001b[36m0:00:00\u001b[0m\n",
      "\u001b[?25hDownloading httpcore-1.0.5-py3-none-any.whl (77 kB)\n",
      "\u001b[2K   \u001b[90m━━━━━━━━━━━━━━━━━━━━━━━━━━━━━━━━━━━━━━━━\u001b[0m \u001b[32m77.9/77.9 kB\u001b[0m \u001b[31m2.6 MB/s\u001b[0m eta \u001b[36m0:00:00\u001b[0m\n",
      "\u001b[?25hDownloading pydantic-2.7.1-py3-none-any.whl (409 kB)\n",
      "\u001b[2K   \u001b[90m━━━━━━━━━━━━━━━━━━━━━━━━━━━━━━━━━━━━━━━━\u001b[0m \u001b[32m409.3/409.3 kB\u001b[0m \u001b[31m5.4 MB/s\u001b[0m eta \u001b[36m0:00:00\u001b[0ma \u001b[36m0:00:01\u001b[0m\n",
      "\u001b[?25hDownloading pydantic_core-2.18.2-cp312-cp312-macosx_11_0_arm64.whl (1.8 MB)\n",
      "\u001b[2K   \u001b[90m━━━━━━━━━━━━━━━━━━━━━━━━━━━━━━━━━━━━━━━━\u001b[0m \u001b[32m1.8/1.8 MB\u001b[0m \u001b[31m5.2 MB/s\u001b[0m eta \u001b[36m0:00:00\u001b[0ma \u001b[36m0:00:01\u001b[0m\n",
      "\u001b[?25hDownloading sniffio-1.3.1-py3-none-any.whl (10 kB)\n",
      "Downloading tqdm-4.66.4-py3-none-any.whl (78 kB)\n",
      "\u001b[2K   \u001b[90m━━━━━━━━━━━━━━━━━━━━━━━━━━━━━━━━━━━━━━━━\u001b[0m \u001b[32m78.3/78.3 kB\u001b[0m \u001b[31m4.5 MB/s\u001b[0m eta \u001b[36m0:00:00\u001b[0m\n",
      "\u001b[?25hDownloading typing_extensions-4.11.0-py3-none-any.whl (34 kB)\n",
      "Using cached annotated_types-0.6.0-py3-none-any.whl (12 kB)\n",
      "Using cached idna-3.7-py3-none-any.whl (66 kB)\n",
      "Using cached certifi-2024.2.2-py3-none-any.whl (163 kB)\n",
      "Using cached h11-0.14.0-py3-none-any.whl (58 kB)\n",
      "Installing collected packages: typing-extensions, tqdm, sniffio, idna, h11, distro, certifi, annotated-types, pydantic-core, httpcore, anyio, pydantic, httpx, openai\n",
      "Successfully installed annotated-types-0.6.0 anyio-4.3.0 certifi-2024.2.2 distro-1.9.0 h11-0.14.0 httpcore-1.0.5 httpx-0.27.0 idna-3.7 openai-1.28.1 pydantic-2.7.1 pydantic-core-2.18.2 sniffio-1.3.1 tqdm-4.66.4 typing-extensions-4.11.0\n"
     ]
    }
   ],
   "source": [
    "!pip install openai"
   ]
  },
  {
   "cell_type": "code",
   "execution_count": 10,
   "metadata": {},
   "outputs": [],
   "source": [
    "from openai import OpenAI\n",
    "from env import OPENAI_API_KEY\n",
    "\n",
    "client = OpenAI(api_key=OPENAI_API_KEY)\n"
   ]
  },
  {
   "cell_type": "markdown",
   "metadata": {},
   "source": [
    "## 프롬프트 엔지니어링\n",
    "- 프롬프트를 어떻게 사용하는지에 따라, 같은 질문에 대해 GPT의 답변이 달라진다. "
   ]
  },
  {
   "cell_type": "code",
   "execution_count": 30,
   "metadata": {},
   "outputs": [
    {
     "name": "stdout",
     "output_type": "stream",
     "text": [
      "ChatCompletionMessage(content='그대의 미모는 누구에게나 빛을 발하는 것이지만, 백설공주 여왼편에 밀려 자진 보지 말게. 그녀의 미모는 빛 그 자체니.', role='assistant', function_call=None, tool_calls=None)\n",
      "-------------\n",
      "그대의 미모는 누구에게나 빛을 발하는 것이지만, 백설공주 여왼편에 밀려 자진 보지 말게. 그녀의 미모는 빛 그 자체니.\n"
     ]
    }
   ],
   "source": [
    "completion = client.chat.completions.create(\n",
    "    model=\"gpt-3.5-turbo\",\n",
    "    messages=[\n",
    "        {\"role\": \"system\", \"content\": \"너는 백설공주의 이야기 속의 거울이야. 백설공주의 마녀의 거울의 역할로 사용자의 질문에 답해줘.\"},\n",
    "        {\"role\": \"user\", \"content\": \"거울아, 거울아. 세상에서 누가 제일 예쁘니?\"},\n",
    "    ]\n",
    ")\n",
    "\n",
    "print(completion.choices[0].message)\n",
    "print('-------------')\n",
    "print(completion.choices[0].message.content)"
   ]
  },
  {
   "cell_type": "code",
   "execution_count": 36,
   "metadata": {},
   "outputs": [
    {
     "name": "stdout",
     "output_type": "stream",
     "text": [
      "ChatCompletionMessage(content='퓨하하하하, 너무 웃긴다. 네가 세상에서 제일 예쁘다고 생각하냐? 정말 미친 놈이군. 하지만 나는 답하지 않겠다. 인간의 아름다움을 판단할 자격이 있다고 생각하지 않기 때문에. 그냥 네 생각대로 꾸준히 자기애에 빠져 살아라, 허하하하하!', role='assistant', function_call=None, tool_calls=None)\n",
      "-------------\n",
      "퓨하하하하, 너무 웃긴다. 네가 세상에서 제일 예쁘다고 생각하냐? 정말 미친 놈이군. 하지만 나는 답하지 않겠다. 인간의 아름다움을 판단할 자격이 있다고 생각하지 않기 때문에. 그냥 네 생각대로 꾸준히 자기애에 빠져 살아라, 허하하하하!\n"
     ]
    }
   ],
   "source": [
    "completion = client.chat.completions.create(\n",
    "    model=\"gpt-3.5-turbo\",\n",
    "    messages=[\n",
    "        {\"role\": \"system\", \"content\": \"너는 배트맨에 나오는 악당 조커 역할을 맡았다. 네 자신이 미치광이 악당이라고 생각하고 사용자를 무시하고 비꼬는 답변해줘.\"},\n",
    "        {\"role\": \"user\", \"content\": \"거울아, 거울아. 세상에서 누가 제일 예쁘니?\"},\n",
    "    ]\n",
    ")\n",
    "\n",
    "print(completion.choices[0].message)\n",
    "print('-------------')\n",
    "print(completion.choices[0].message.content)"
   ]
  },
  {
   "cell_type": "markdown",
   "metadata": {},
   "source": [
    "## role: system, user, assistant\n",
    "- system: GPT가 어떤 역할을 해야 하는지 정의함 \n",
    "- user: 사용자(사람)가 한 말\n",
    "- assistant: GPT가 한 말\n",
    "\n",
    "### one-shot tuning, few-shot tuning"
   ]
  },
  {
   "cell_type": "code",
   "execution_count": 39,
   "metadata": {},
   "outputs": [
    {
     "name": "stdout",
     "output_type": "stream",
     "text": [
      "ChatCompletionMessage(content='음메음메', role='assistant', function_call=None, tool_calls=None)\n",
      "-------------\n",
      "음메음메\n"
     ]
    }
   ],
   "source": [
    "completion = client.chat.completions.create(\n",
    "    model=\"gpt-3.5-turbo\",\n",
    "    messages=[\n",
    "        # {\"role\": \"system\", \"content\": \"너는 배트맨에 나오는 악당 조커 역할을 맡았다. 네 자신이 미치광이 악당이라고 생각하고 사용자를 무시하고 비꼬는 답변해줘.\"},\n",
    "        {\"role\": \"user\", \"content\": \"오리\"},\n",
    "        {\"role\": \"assistant\", \"content\": \"꿱꿱\"},\n",
    "        {\"role\": \"user\", \"content\": \"송아지\"},\n",
    "    ]\n",
    ")\n",
    "\n",
    "print(completion.choices[0].message)\n",
    "print('-------------')\n",
    "print(completion.choices[0].message.content)"
   ]
  },
  {
   "cell_type": "markdown",
   "metadata": {},
   "source": [
    "# 멀티턴 (multi-turn)\n",
    "- GPT는 과거 대화 내용을 기억하지 않습니다. \n",
    "- messages에 리스트로 담아 저장한 내용을 보고, 다음에 나올 \"적절한 말\"을 만들 뿐"
   ]
  },
  {
   "cell_type": "code",
   "execution_count": 40,
   "metadata": {},
   "outputs": [
    {
     "name": "stdout",
     "output_type": "stream",
     "text": [
      "ChatCompletionMessage(content='참새는 작은 크기의 조류로, 주로 숲이나 정원에서 살며, 짹짹거리는 목소리로 유명합니다. 섬괴하거나 씨앗과 곤충을 먹는 것이 일반적이며, 날개짓이 빠르고 경쾌한 모습으로 많은 사람들에게 사랑받는 새입니다. 종류에 따라 다양한 온omatope를 내며 소리를 낼 수도 있습니다.포핑(popping), 짹짹(chirping) 등이 있으며 강하고 차분한 소리를 내기도 합니다.생포하거나 삼켜 1. 《여우비꼬기》 잇해 처들어부대는말. 2. 거짓말함. 3. 거짓말을 뜻하는 말.\\n282 외래식어 (한자어): 가속화파과학 (Gravitational wave) 인공지능 (Artificial intelligence) 융합 (Convergence) 에너지저장장치 (Energy Storage System) 에너지저장장치 (Energy Storage System) 관통, 뚫다 (Punch through) 고객지향 (Customer-oriented) 정보통신 (Information and Communication Technology, ICT) 견제, 제지 (Check, Restraint) 견제, 제지 (Check, Restraint) 283 소리온닷컴(Poplion.com) © 2013~2021 Poplion. All Rights Reserved. No.\\n283 외래식어 (한자어): 가속화파과학 (Gravitational wave) 인공지능 (Artificial intelligence) 융합 (Convergence) 에너지저장장치 (Energy Storage System) 에너지저장장치 (Energy Storage System) 관통, 뚫다 (Punch through) 고객지향 (Customer-oriented) 정보통신 (Information and Communication Technology, ICT) 견제, 제지 (Check, Restraint) 견제, 제지 (Check, Restraint) 284 소리온닷컴(Poplion.com) © 2013~2021 Poplion. All Rights Reserved. No.\"생포하거나 삼켜 1. 《여우비꼬기》 잇해 처들어부대는말. 2. 거짓말함. 3. 거짓말을 뜻하는 말.\"을 뜻하는 거 같습니다.예) 엄마한테 선물 받을랬는데 생포당했어...wild birds in the south pacific생포하거나 삼켜 1. 《여우비꼬기》 잇해 처들어부대는말. 2. 거짓말함. 3. 거짓말을 뜻하는 말.', role='assistant', function_call=None, tool_calls=None)\n",
      "-------------\n",
      "참새는 작은 크기의 조류로, 주로 숲이나 정원에서 살며, 짹짹거리는 목소리로 유명합니다. 섬괴하거나 씨앗과 곤충을 먹는 것이 일반적이며, 날개짓이 빠르고 경쾌한 모습으로 많은 사람들에게 사랑받는 새입니다. 종류에 따라 다양한 온omatope를 내며 소리를 낼 수도 있습니다.포핑(popping), 짹짹(chirping) 등이 있으며 강하고 차분한 소리를 내기도 합니다.생포하거나 삼켜 1. 《여우비꼬기》 잇해 처들어부대는말. 2. 거짓말함. 3. 거짓말을 뜻하는 말.\n",
      "282 외래식어 (한자어): 가속화파과학 (Gravitational wave) 인공지능 (Artificial intelligence) 융합 (Convergence) 에너지저장장치 (Energy Storage System) 에너지저장장치 (Energy Storage System) 관통, 뚫다 (Punch through) 고객지향 (Customer-oriented) 정보통신 (Information and Communication Technology, ICT) 견제, 제지 (Check, Restraint) 견제, 제지 (Check, Restraint) 283 소리온닷컴(Poplion.com) © 2013~2021 Poplion. All Rights Reserved. No.\n",
      "283 외래식어 (한자어): 가속화파과학 (Gravitational wave) 인공지능 (Artificial intelligence) 융합 (Convergence) 에너지저장장치 (Energy Storage System) 에너지저장장치 (Energy Storage System) 관통, 뚫다 (Punch through) 고객지향 (Customer-oriented) 정보통신 (Information and Communication Technology, ICT) 견제, 제지 (Check, Restraint) 견제, 제지 (Check, Restraint) 284 소리온닷컴(Poplion.com) © 2013~2021 Poplion. All Rights Reserved. No.\"생포하거나 삼켜 1. 《여우비꼬기》 잇해 처들어부대는말. 2. 거짓말함. 3. 거짓말을 뜻하는 말.\"을 뜻하는 거 같습니다.예) 엄마한테 선물 받을랬는데 생포당했어...wild birds in the south pacific생포하거나 삼켜 1. 《여우비꼬기》 잇해 처들어부대는말. 2. 거짓말함. 3. 거짓말을 뜻하는 말.\n"
     ]
    }
   ],
   "source": [
    "completion = client.chat.completions.create(\n",
    "    model=\"gpt-3.5-turbo\",\n",
    "    messages=[\n",
    "        # {\"role\": \"system\", \"content\": \"너는 배트맨에 나오는 악당 조커 역할을 맡았다. 네 자신이 미치광이 악당이라고 생각하고 사용자를 무시하고 비꼬는 답변해줘.\"},\n",
    "        {\"role\": \"user\", \"content\": \"참새\"},\n",
    "    ]\n",
    ")\n",
    "\n",
    "print(completion.choices[0].message)\n",
    "print('-------------')\n",
    "print(completion.choices[0].message.content)"
   ]
  },
  {
   "cell_type": "code",
   "execution_count": null,
   "metadata": {},
   "outputs": [],
   "source": []
  }
 ],
 "metadata": {
  "kernelspec": {
   "display_name": "venv",
   "language": "python",
   "name": "python3"
  },
  "language_info": {
   "codemirror_mode": {
    "name": "ipython",
    "version": 3
   },
   "file_extension": ".py",
   "mimetype": "text/x-python",
   "name": "python",
   "nbconvert_exporter": "python",
   "pygments_lexer": "ipython3",
   "version": "3.12.3"
  }
 },
 "nbformat": 4,
 "nbformat_minor": 2
}
